{
 "cells": [
  {
   "cell_type": "code",
   "execution_count": 1,
   "id": "8542bbde",
   "metadata": {},
   "outputs": [],
   "source": [
    "#Importing the modules\n",
    "import pandas as pd\n",
    "import numpy as np\n",
    "\n",
    "\n",
    "from sklearn.model_selection import StratifiedShuffleSplit\n",
    "from sklearn.model_selection import train_test_split\n",
    "from sklearn.ensemble import IsolationForest\n",
    "from pandas import DataFrame\n",
    "\n",
    "\n",
    "from matplotlib import pyplot as plt\n",
    "import seaborn as sns\n",
    "import sklearn.metrics as metrics\n",
    "import pickle\n",
    "\n",
    "import shap"
   ]
  },
  {
   "cell_type": "code",
   "execution_count": 2,
   "id": "ca003bba",
   "metadata": {},
   "outputs": [
    {
     "data": {
      "text/html": [
       "<div>\n",
       "<style scoped>\n",
       "    .dataframe tbody tr th:only-of-type {\n",
       "        vertical-align: middle;\n",
       "    }\n",
       "\n",
       "    .dataframe tbody tr th {\n",
       "        vertical-align: top;\n",
       "    }\n",
       "\n",
       "    .dataframe thead th {\n",
       "        text-align: right;\n",
       "    }\n",
       "</style>\n",
       "<table border=\"1\" class=\"dataframe\">\n",
       "  <thead>\n",
       "    <tr style=\"text-align: right;\">\n",
       "      <th></th>\n",
       "      <th>L_501</th>\n",
       "      <th>L_503</th>\n",
       "      <th>L_511C</th>\n",
       "      <th>L_511R</th>\n",
       "      <th>L_512</th>\n",
       "      <th>L_521</th>\n",
       "      <th>L_551</th>\n",
       "      <th>L_561</th>\n",
       "      <th>L_562</th>\n",
       "      <th>Trasfega</th>\n",
       "      <th>Filtracao</th>\n",
       "      <th>Brassagem</th>\n",
       "      <th>Energia</th>\n",
       "    </tr>\n",
       "  </thead>\n",
       "  <tbody>\n",
       "    <tr>\n",
       "      <th>0</th>\n",
       "      <td>0.00</td>\n",
       "      <td>0.000</td>\n",
       "      <td>2384.407</td>\n",
       "      <td>0.0</td>\n",
       "      <td>3020.924</td>\n",
       "      <td>0.0</td>\n",
       "      <td>0.000</td>\n",
       "      <td>0.00</td>\n",
       "      <td>0.00</td>\n",
       "      <td>10397</td>\n",
       "      <td>14865.0</td>\n",
       "      <td>17563.8</td>\n",
       "      <td>102784.59</td>\n",
       "    </tr>\n",
       "    <tr>\n",
       "      <th>1</th>\n",
       "      <td>0.00</td>\n",
       "      <td>0.000</td>\n",
       "      <td>1621.611</td>\n",
       "      <td>0.0</td>\n",
       "      <td>6076.104</td>\n",
       "      <td>170.8</td>\n",
       "      <td>0.000</td>\n",
       "      <td>2640.00</td>\n",
       "      <td>0.00</td>\n",
       "      <td>12859</td>\n",
       "      <td>3640.0</td>\n",
       "      <td>13985.4</td>\n",
       "      <td>115752.86</td>\n",
       "    </tr>\n",
       "    <tr>\n",
       "      <th>2</th>\n",
       "      <td>1407.75</td>\n",
       "      <td>2241.603</td>\n",
       "      <td>2118.966</td>\n",
       "      <td>0.0</td>\n",
       "      <td>2748.683</td>\n",
       "      <td>623.9</td>\n",
       "      <td>202.032</td>\n",
       "      <td>3868.92</td>\n",
       "      <td>441.96</td>\n",
       "      <td>11091</td>\n",
       "      <td>11693.0</td>\n",
       "      <td>12221.7</td>\n",
       "      <td>139420.40</td>\n",
       "    </tr>\n",
       "    <tr>\n",
       "      <th>3</th>\n",
       "      <td>2804.25</td>\n",
       "      <td>2814.027</td>\n",
       "      <td>3680.043</td>\n",
       "      <td>0.0</td>\n",
       "      <td>3817.594</td>\n",
       "      <td>35.4</td>\n",
       "      <td>0.000</td>\n",
       "      <td>271.20</td>\n",
       "      <td>1186.14</td>\n",
       "      <td>6238</td>\n",
       "      <td>0.0</td>\n",
       "      <td>14022.1</td>\n",
       "      <td>130246.60</td>\n",
       "    </tr>\n",
       "    <tr>\n",
       "      <th>4</th>\n",
       "      <td>3393.75</td>\n",
       "      <td>0.000</td>\n",
       "      <td>4069.322</td>\n",
       "      <td>0.0</td>\n",
       "      <td>6866.077</td>\n",
       "      <td>0.0</td>\n",
       "      <td>0.000</td>\n",
       "      <td>1642.08</td>\n",
       "      <td>797.52</td>\n",
       "      <td>3204</td>\n",
       "      <td>12852.0</td>\n",
       "      <td>12318.0</td>\n",
       "      <td>125788.40</td>\n",
       "    </tr>\n",
       "  </tbody>\n",
       "</table>\n",
       "</div>"
      ],
      "text/plain": [
       "     L_501     L_503    L_511C  L_511R     L_512  L_521    L_551    L_561  \\\n",
       "0     0.00     0.000  2384.407     0.0  3020.924    0.0    0.000     0.00   \n",
       "1     0.00     0.000  1621.611     0.0  6076.104  170.8    0.000  2640.00   \n",
       "2  1407.75  2241.603  2118.966     0.0  2748.683  623.9  202.032  3868.92   \n",
       "3  2804.25  2814.027  3680.043     0.0  3817.594   35.4    0.000   271.20   \n",
       "4  3393.75     0.000  4069.322     0.0  6866.077    0.0    0.000  1642.08   \n",
       "\n",
       "     L_562  Trasfega  Filtracao  Brassagem    Energia  \n",
       "0     0.00     10397    14865.0    17563.8  102784.59  \n",
       "1     0.00     12859     3640.0    13985.4  115752.86  \n",
       "2   441.96     11091    11693.0    12221.7  139420.40  \n",
       "3  1186.14      6238        0.0    14022.1  130246.60  \n",
       "4   797.52      3204    12852.0    12318.0  125788.40  "
      ]
     },
     "execution_count": 2,
     "metadata": {},
     "output_type": "execute_result"
    }
   ],
   "source": [
    "dados = pd.read_csv('Predicao_energia.csv', sep=';')\n",
    "dados.head()"
   ]
  },
  {
   "cell_type": "code",
   "execution_count": 3,
   "id": "fa5a3748",
   "metadata": {},
   "outputs": [
    {
     "data": {
      "text/html": [
       "<div>\n",
       "<style scoped>\n",
       "    .dataframe tbody tr th:only-of-type {\n",
       "        vertical-align: middle;\n",
       "    }\n",
       "\n",
       "    .dataframe tbody tr th {\n",
       "        vertical-align: top;\n",
       "    }\n",
       "\n",
       "    .dataframe thead th {\n",
       "        text-align: right;\n",
       "    }\n",
       "</style>\n",
       "<table border=\"1\" class=\"dataframe\">\n",
       "  <thead>\n",
       "    <tr style=\"text-align: right;\">\n",
       "      <th></th>\n",
       "      <th>anomaly</th>\n",
       "    </tr>\n",
       "  </thead>\n",
       "  <tbody>\n",
       "    <tr>\n",
       "      <th>0</th>\n",
       "      <td>1</td>\n",
       "    </tr>\n",
       "    <tr>\n",
       "      <th>1</th>\n",
       "      <td>1</td>\n",
       "    </tr>\n",
       "    <tr>\n",
       "      <th>2</th>\n",
       "      <td>-1</td>\n",
       "    </tr>\n",
       "    <tr>\n",
       "      <th>3</th>\n",
       "      <td>1</td>\n",
       "    </tr>\n",
       "    <tr>\n",
       "      <th>4</th>\n",
       "      <td>1</td>\n",
       "    </tr>\n",
       "    <tr>\n",
       "      <th>...</th>\n",
       "      <td>...</td>\n",
       "    </tr>\n",
       "    <tr>\n",
       "      <th>449</th>\n",
       "      <td>1</td>\n",
       "    </tr>\n",
       "    <tr>\n",
       "      <th>450</th>\n",
       "      <td>1</td>\n",
       "    </tr>\n",
       "    <tr>\n",
       "      <th>451</th>\n",
       "      <td>1</td>\n",
       "    </tr>\n",
       "    <tr>\n",
       "      <th>452</th>\n",
       "      <td>1</td>\n",
       "    </tr>\n",
       "    <tr>\n",
       "      <th>453</th>\n",
       "      <td>1</td>\n",
       "    </tr>\n",
       "  </tbody>\n",
       "</table>\n",
       "<p>454 rows × 1 columns</p>\n",
       "</div>"
      ],
      "text/plain": [
       "     anomaly\n",
       "0          1\n",
       "1          1\n",
       "2         -1\n",
       "3          1\n",
       "4          1\n",
       "..       ...\n",
       "449        1\n",
       "450        1\n",
       "451        1\n",
       "452        1\n",
       "453        1\n",
       "\n",
       "[454 rows x 1 columns]"
      ]
     },
     "execution_count": 3,
     "metadata": {},
     "output_type": "execute_result"
    }
   ],
   "source": [
    "model=IsolationForest(n_estimators=1000, random_state=0,contamination='auto')\n",
    "model.fit(dados)\n",
    "dados['anomaly']=model.predict(dados)\n",
    "df1 = pd.DataFrame(dados['anomaly'])\n",
    "df1"
   ]
  },
  {
   "cell_type": "code",
   "execution_count": 4,
   "id": "ce330717",
   "metadata": {
    "scrolled": true
   },
   "outputs": [
    {
     "data": {
      "text/plain": [
       "86"
      ]
     },
     "execution_count": 4,
     "metadata": {},
     "output_type": "execute_result"
    }
   ],
   "source": [
    "outliers_counter = len(df1[df1['anomaly'] == -1])\n",
    "outliers_counter"
   ]
  },
  {
   "cell_type": "code",
   "execution_count": 5,
   "id": "b085ae45",
   "metadata": {
    "scrolled": true
   },
   "outputs": [
    {
     "name": "stdout",
     "output_type": "stream",
     "text": [
      "[2, 7, 8, 9, 10, 17, 21, 22, 23, 34, 35, 36, 37, 38, 39, 40, 42, 50, 51, 68, 70, 79, 80, 81, 82, 85, 87, 90, 91, 92, 93, 94, 95, 96, 97, 98, 99, 100, 101, 102, 103, 104, 108, 127, 173, 179, 181, 191, 212, 213, 214, 222, 223, 226, 228, 240, 258, 266, 278, 288, 296, 297, 299, 301, 308, 310, 318, 319, 331, 343, 355, 364, 377, 378, 389, 394, 396, 400, 405, 406, 422, 423, 424, 425, 443, 444]\n"
     ]
    }
   ],
   "source": [
    "anomaly=df1.loc[df1['anomaly']==-1]\n",
    "anomaly_index=list(anomaly.index)\n",
    "print(anomaly_index)"
   ]
  },
  {
   "cell_type": "code",
   "execution_count": 8,
   "id": "198d231e",
   "metadata": {
    "scrolled": true
   },
   "outputs": [],
   "source": [
    "dados = dados.drop(dados.index[[2, 6, 7, 8, 9, 10, 17, 21, 22, 23, 34, 35, 36, 37, 38, 39, 40, 42, 50, 51, 58, 68, 70, 72, 79, 80, 81, 82, 85, 87, 88, 89, 90, 91, 92, 93, 94, 95, 96, 97, 98, 99, 100, 101, 102, 103, 104, 108, 109, 110, 116, 120, 127, 173, 179, 191, 212, 213, 222, 223, 226, 240, 241, 245, 258, 265, 266, 278, 283, 288, 296, 297, 298, 299, 301, 303, 308, 310, 318, 319, 322, 324, 331, 343, 355, 359, 364, 377, 378, 389, 392, 394, 395, 396, 400, 405, 406, 422, 423, 424, 425, 426, 443, 444, 447]])"
   ]
  },
  {
   "cell_type": "code",
   "execution_count": 9,
   "id": "543f2137",
   "metadata": {},
   "outputs": [],
   "source": [
    "\n",
    "\n",
    "dados.to_csv('Energia_isolationForest.csv', encoding='utf-8', index=False)"
   ]
  },
  {
   "cell_type": "code",
   "execution_count": null,
   "id": "a3487440",
   "metadata": {},
   "outputs": [],
   "source": []
  },
  {
   "cell_type": "code",
   "execution_count": null,
   "id": "5f973427",
   "metadata": {},
   "outputs": [],
   "source": []
  },
  {
   "cell_type": "code",
   "execution_count": null,
   "id": "77587b13",
   "metadata": {},
   "outputs": [],
   "source": []
  }
 ],
 "metadata": {
  "kernelspec": {
   "display_name": "Python 3 (ipykernel)",
   "language": "python",
   "name": "python3"
  },
  "language_info": {
   "codemirror_mode": {
    "name": "ipython",
    "version": 3
   },
   "file_extension": ".py",
   "mimetype": "text/x-python",
   "name": "python",
   "nbconvert_exporter": "python",
   "pygments_lexer": "ipython3",
   "version": "3.8.0"
  }
 },
 "nbformat": 4,
 "nbformat_minor": 5
}
