{
 "cells": [
  {
   "cell_type": "code",
   "execution_count": 1,
   "id": "bc62ec47",
   "metadata": {},
   "outputs": [],
   "source": [
    "#Importing the modules\n",
    "import pandas as pd\n",
    "import numpy as np\n",
    "\n",
    "\n",
    "from sklearn.model_selection import StratifiedShuffleSplit\n",
    "from sklearn.model_selection import train_test_split\n",
    "from sklearn.ensemble import IsolationForest\n",
    "from pandas import DataFrame\n",
    "\n",
    "\n",
    "from matplotlib import pyplot as plt\n",
    "import seaborn as sns\n",
    "import sklearn.metrics as metrics\n",
    "import pickle\n",
    "\n",
    "import shap"
   ]
  },
  {
   "cell_type": "code",
   "execution_count": 2,
   "id": "4c803c59",
   "metadata": {},
   "outputs": [
    {
     "data": {
      "text/html": [
       "<div>\n",
       "<style scoped>\n",
       "    .dataframe tbody tr th:only-of-type {\n",
       "        vertical-align: middle;\n",
       "    }\n",
       "\n",
       "    .dataframe tbody tr th {\n",
       "        vertical-align: top;\n",
       "    }\n",
       "\n",
       "    .dataframe thead th {\n",
       "        text-align: right;\n",
       "    }\n",
       "</style>\n",
       "<table border=\"1\" class=\"dataframe\">\n",
       "  <thead>\n",
       "    <tr style=\"text-align: right;\">\n",
       "      <th></th>\n",
       "      <th>L_501</th>\n",
       "      <th>L_503</th>\n",
       "      <th>L_511C</th>\n",
       "      <th>L_511R</th>\n",
       "      <th>L_512</th>\n",
       "      <th>L_521</th>\n",
       "      <th>L_551</th>\n",
       "      <th>L_561</th>\n",
       "      <th>L_562</th>\n",
       "      <th>Trasfega</th>\n",
       "      <th>Filtracao</th>\n",
       "      <th>Brassagem</th>\n",
       "      <th>Energia</th>\n",
       "    </tr>\n",
       "  </thead>\n",
       "  <tbody>\n",
       "    <tr>\n",
       "      <th>0</th>\n",
       "      <td>0.00</td>\n",
       "      <td>0.000</td>\n",
       "      <td>2384.407</td>\n",
       "      <td>0.0</td>\n",
       "      <td>3020.924</td>\n",
       "      <td>0.0</td>\n",
       "      <td>0.000</td>\n",
       "      <td>0.00</td>\n",
       "      <td>0.00</td>\n",
       "      <td>10397</td>\n",
       "      <td>14865.0</td>\n",
       "      <td>17563.8</td>\n",
       "      <td>102784.59</td>\n",
       "    </tr>\n",
       "    <tr>\n",
       "      <th>1</th>\n",
       "      <td>0.00</td>\n",
       "      <td>0.000</td>\n",
       "      <td>1621.611</td>\n",
       "      <td>0.0</td>\n",
       "      <td>6076.104</td>\n",
       "      <td>170.8</td>\n",
       "      <td>0.000</td>\n",
       "      <td>2640.00</td>\n",
       "      <td>0.00</td>\n",
       "      <td>12859</td>\n",
       "      <td>3640.0</td>\n",
       "      <td>13985.4</td>\n",
       "      <td>115752.86</td>\n",
       "    </tr>\n",
       "    <tr>\n",
       "      <th>2</th>\n",
       "      <td>1407.75</td>\n",
       "      <td>2241.603</td>\n",
       "      <td>2118.966</td>\n",
       "      <td>0.0</td>\n",
       "      <td>2748.683</td>\n",
       "      <td>623.9</td>\n",
       "      <td>202.032</td>\n",
       "      <td>3868.92</td>\n",
       "      <td>441.96</td>\n",
       "      <td>11091</td>\n",
       "      <td>11693.0</td>\n",
       "      <td>12221.7</td>\n",
       "      <td>139420.40</td>\n",
       "    </tr>\n",
       "    <tr>\n",
       "      <th>3</th>\n",
       "      <td>2804.25</td>\n",
       "      <td>2814.027</td>\n",
       "      <td>3680.043</td>\n",
       "      <td>0.0</td>\n",
       "      <td>3817.594</td>\n",
       "      <td>35.4</td>\n",
       "      <td>0.000</td>\n",
       "      <td>271.20</td>\n",
       "      <td>1186.14</td>\n",
       "      <td>6238</td>\n",
       "      <td>0.0</td>\n",
       "      <td>14022.1</td>\n",
       "      <td>130246.60</td>\n",
       "    </tr>\n",
       "    <tr>\n",
       "      <th>4</th>\n",
       "      <td>3393.75</td>\n",
       "      <td>0.000</td>\n",
       "      <td>4069.322</td>\n",
       "      <td>0.0</td>\n",
       "      <td>6866.077</td>\n",
       "      <td>0.0</td>\n",
       "      <td>0.000</td>\n",
       "      <td>1642.08</td>\n",
       "      <td>797.52</td>\n",
       "      <td>3204</td>\n",
       "      <td>12852.0</td>\n",
       "      <td>12318.0</td>\n",
       "      <td>125788.40</td>\n",
       "    </tr>\n",
       "  </tbody>\n",
       "</table>\n",
       "</div>"
      ],
      "text/plain": [
       "     L_501     L_503    L_511C  L_511R     L_512  L_521    L_551    L_561  \\\n",
       "0     0.00     0.000  2384.407     0.0  3020.924    0.0    0.000     0.00   \n",
       "1     0.00     0.000  1621.611     0.0  6076.104  170.8    0.000  2640.00   \n",
       "2  1407.75  2241.603  2118.966     0.0  2748.683  623.9  202.032  3868.92   \n",
       "3  2804.25  2814.027  3680.043     0.0  3817.594   35.4    0.000   271.20   \n",
       "4  3393.75     0.000  4069.322     0.0  6866.077    0.0    0.000  1642.08   \n",
       "\n",
       "     L_562  Trasfega  Filtracao  Brassagem    Energia  \n",
       "0     0.00     10397    14865.0    17563.8  102784.59  \n",
       "1     0.00     12859     3640.0    13985.4  115752.86  \n",
       "2   441.96     11091    11693.0    12221.7  139420.40  \n",
       "3  1186.14      6238        0.0    14022.1  130246.60  \n",
       "4   797.52      3204    12852.0    12318.0  125788.40  "
      ]
     },
     "execution_count": 2,
     "metadata": {},
     "output_type": "execute_result"
    }
   ],
   "source": [
    "dados = pd.read_csv('Predicao_energia.csv', sep=';')\n",
    "dados.head()"
   ]
  },
  {
   "cell_type": "code",
   "execution_count": 3,
   "id": "88825b9d",
   "metadata": {},
   "outputs": [
    {
     "data": {
      "text/plain": [
       "L_501        0\n",
       "L_503        0\n",
       "L_511C       0\n",
       "L_511R       0\n",
       "L_512        0\n",
       "L_521        0\n",
       "L_551        0\n",
       "L_561        0\n",
       "L_562        0\n",
       "Trasfega     0\n",
       "Filtracao    0\n",
       "Brassagem    0\n",
       "Energia      0\n",
       "dtype: int64"
      ]
     },
     "execution_count": 3,
     "metadata": {},
     "output_type": "execute_result"
    }
   ],
   "source": [
    "#Verificando a existência de valores nulos\n",
    "dados.isna().sum()"
   ]
  },
  {
   "cell_type": "code",
   "execution_count": 4,
   "id": "55d46479",
   "metadata": {
    "scrolled": true
   },
   "outputs": [
    {
     "name": "stdout",
     "output_type": "stream",
     "text": [
      "[[0.         0.         0.02251341 ... 0.14035434 0.16583623 0.97048527]\n",
      " [0.         0.         0.01379434 ... 0.03096391 0.11896775 0.98465952]\n",
      " [0.00998384 0.01589757 0.01502783 ... 0.08292741 0.08667698 0.98877727]\n",
      " ...\n",
      " [0.         0.02357719 0.04225035 ... 0.17001851 0.09790136 0.97331049]\n",
      " [0.         0.         0.0375339  ... 0.11630662 0.15238001 0.97184506]\n",
      " [0.         0.01121641 0.03738717 ... 0.1131392  0.         0.9899817 ]]\n"
     ]
    }
   ],
   "source": [
    "#Normalizando os dados\n",
    "from sklearn.preprocessing import Normalizer\n",
    "values = Normalizer().fit_transform(dados.values)\n",
    "print(values)"
   ]
  },
  {
   "cell_type": "markdown",
   "id": "cdbe8912",
   "metadata": {},
   "source": [
    "### Para avaliar se a clusterização é boa, temos algumas métricas de avalição:\n",
    "O coefieciente de Silhouette varia de -1 a 1, quanto mais mais perto de 1 mais coeso e denso. "
   ]
  },
  {
   "cell_type": "code",
   "execution_count": null,
   "id": "488feb66",
   "metadata": {},
   "outputs": [],
   "source": []
  }
 ],
 "metadata": {
  "kernelspec": {
   "display_name": "Python 3 (ipykernel)",
   "language": "python",
   "name": "python3"
  },
  "language_info": {
   "codemirror_mode": {
    "name": "ipython",
    "version": 3
   },
   "file_extension": ".py",
   "mimetype": "text/x-python",
   "name": "python",
   "nbconvert_exporter": "python",
   "pygments_lexer": "ipython3",
   "version": "3.8.0"
  }
 },
 "nbformat": 4,
 "nbformat_minor": 5
}
